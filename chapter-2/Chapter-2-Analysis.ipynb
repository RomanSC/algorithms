{
 "cells": [
  {
   "cell_type": "markdown",
   "metadata": {
    "collapsed": true
   },
   "source": [
    "<h1>Chapter 2: Analysis</h1>\n",
    "\n",
    "<span>\n",
    "    My first jupyter notebook, demonstrating some code from class and the chapter.\n",
    "</span>"
   ]
  },
  {
   "cell_type": "code",
   "execution_count": 1,
   "metadata": {
    "collapsed": false
   },
   "outputs": [
    {
     "name": "stdout",
     "output_type": "stream",
     "text": [
      "Hello world!\n"
     ]
    }
   ],
   "source": [
    "print('Hello world!')"
   ]
  },
  {
   "cell_type": "code",
   "execution_count": 2,
   "metadata": {
    "collapsed": true
   },
   "outputs": [],
   "source": [
    "from matplotlib import pyplot"
   ]
  },
  {
   "cell_type": "markdown",
   "metadata": {},
   "source": [
    "<span>First I created an execution time function that can be easily imported and is what I call \"function agnostic.\" Meaning, I can import my function and pass functions to the function and get the result (whatever the function returns, and the time it took to execute:</span>"
   ]
  },
  {
   "cell_type": "code",
   "execution_count": 3,
   "metadata": {
    "collapsed": true
   },
   "outputs": [],
   "source": [
    "from executiontime import execution_time"
   ]
  },
  {
   "cell_type": "markdown",
   "metadata": {},
   "source": [
    "<span>After importing, calling my function looks like this:</span>"
   ]
  },
  {
   "cell_type": "code",
   "execution_count": 4,
   "metadata": {
    "collapsed": true
   },
   "outputs": [],
   "source": [
    "result, exec_time = execution_time(sum([1, 2, 3]), 1000000)"
   ]
  },
  {
   "cell_type": "code",
   "execution_count": 5,
   "metadata": {
    "collapsed": false
   },
   "outputs": [
    {
     "name": "stdout",
     "output_type": "stream",
     "text": [
      "Here's the result of the sum of 1, 2, and 3, executed 1000000 times, and the execution time: (6, 5.3781986236572266e-08)\n"
     ]
    }
   ],
   "source": [
    "print('Here\\'s the result of the sum of 1, 2, and 3, executed 1000000 times, and the execution time:', execution_time(sum([1, 2, 3]), 1000000))"
   ]
  },
  {
   "cell_type": "markdown",
   "metadata": {},
   "source": [
    "<span>Here's the code...\n",
    "\n",
    "Note: Please see docstring for execution_time() function source:\n",
    "\n",
    "</span>\n",
    "\n",
    "<code>\n",
    "\"\"\" execution-time.py | Mon, Jan 30, 2017 | Roman S. Collins\n",
    "Demonstrating how to calculate execution time using a function\n",
    "in Python...\n",
    "Jim's example:\n",
    "def run_time(f, n, loopcount=1000):\n",
    "    # Return the run time in seconds of f(n)\n",
    "    # see https://docs.python.org/2/library/time.html\n",
    "    from time import time\n",
    "    start = time()\n",
    "    for loop in range(loopcount):\n",
    "        anwer = f(n)\n",
    "    end = time()\n",
    "    return (end - start)/loopcount\n",
    "Assumes a specific function is called within the loop.\n",
    "Whereas attempt to make my loop \"function agnostic\",\n",
    "ultimately not that different though\n",
    "\"\"\"\n",
    "\n",
    "from doctest import testmod\n",
    "from time import time\n",
    "\n",
    "def execution_time(some_function, iter_count):\n",
    "    start_time = time()\n",
    "\n",
    "    for iterations in range(iter_count):\n",
    "        result = some_function\n",
    "\n",
    "    end_time = time()\n",
    "\n",
    "    exec_time = (end_time - start_time) / iter_count\n",
    "\n",
    "    return result, exec_time\n",
    "\n",
    "def main():\n",
    "    \"\"\" Hard to doctest ever changing variables so maybe this is the best\n",
    "        we can do?\n",
    "        Doctest:\n",
    "        >>> sus = [1, 3, 34, 53, 645, 234, 6234, 111, 1123, 100, 12, 12, 23]\n",
    "        >>> result, exec_time = execution_time(sum(sus), 2000000)\n",
    "        >>> isinstance(result, int)\n",
    "        True\n",
    "        >>> isinstance(exec_time, float)\n",
    "        True\n",
    "    \"\"\"\n",
    "\n",
    "    sus = [1, 3, 34, 53, 645, 234, 6234, 111, 1123, 100, 12, 12, 23]\n",
    "\n",
    "    result, exec_time = execution_time(sum(sus), 2000000)\n",
    "\n",
    "    print('TEST: print \\\"result\\\", \\\"exec_time\\\":', result, exec_time)\n",
    "\n",
    "if __name__=='__main__':\n",
    "    testmod()\n",
    "main()\n",
    "</code>"
   ]
  },
  {
   "cell_type": "markdown",
   "metadata": {
    "collapsed": true
   },
   "source": [
    "<span>Let's grab some code from the last assingment to test our new function... \n",
    "\n",
    "$ cp -r ../chapter-1/waysoffib.py .\n",
    "\n",
    "</span>"
   ]
  },
  {
   "cell_type": "code",
   "execution_count": 6,
   "metadata": {
    "collapsed": true
   },
   "outputs": [],
   "source": [
    "from waysoffib import *"
   ]
  },
  {
   "cell_type": "code",
   "execution_count": 7,
   "metadata": {
    "collapsed": false
   },
   "outputs": [
    {
     "data": {
      "text/plain": [
       "['In',\n",
       " 'Memoize',\n",
       " 'Out',\n",
       " 'WAYSOFFIB',\n",
       " '_',\n",
       " '__',\n",
       " '___',\n",
       " '__builtin__',\n",
       " '__builtins__',\n",
       " '__doc__',\n",
       " '__loader__',\n",
       " '__name__',\n",
       " '__package__',\n",
       " '__spec__',\n",
       " '_dh',\n",
       " '_i',\n",
       " '_i1',\n",
       " '_i2',\n",
       " '_i3',\n",
       " '_i4',\n",
       " '_i5',\n",
       " '_i6',\n",
       " '_i7',\n",
       " '_ih',\n",
       " '_ii',\n",
       " '_iii',\n",
       " '_oh',\n",
       " '_sh',\n",
       " 'a',\n",
       " 'b',\n",
       " 'exec_time',\n",
       " 'execution_time',\n",
       " 'exit',\n",
       " 'get_ipython',\n",
       " 'main',\n",
       " 'pyplot',\n",
       " 'quit',\n",
       " 'result',\n",
       " 'sys']"
      ]
     },
     "execution_count": 7,
     "metadata": {},
     "output_type": "execute_result"
    }
   ],
   "source": [
    "dir()"
   ]
  },
  {
   "cell_type": "markdown",
   "metadata": {},
   "source": [
    "<span>After importing waysoffib.py, I name some variables.</span>"
   ]
  },
  {
   "cell_type": "code",
   "execution_count": 8,
   "metadata": {
    "collapsed": false
   },
   "outputs": [],
   "source": [
    "wof = WAYSOFFIB()"
   ]
  },
  {
   "cell_type": "code",
   "execution_count": 9,
   "metadata": {
    "collapsed": true
   },
   "outputs": [],
   "source": [
    "n = 10"
   ]
  },
  {
   "cell_type": "markdown",
   "metadata": {},
   "source": [
    "<span>Now I can use the functions. As we will see the sum of a fibonacci sequence of 10 is equal to 55 as, the sequence is this:\n",
    "<br>1, 1, 2, 3, 5, 8, 13, 21, 34, 55</br>\n",
    "<br></br>\n",
    "<br>\n",
    "The result from one of our functions goes like this:\n",
    "</br></span>"
   ]
  },
  {
   "cell_type": "code",
   "execution_count": 10,
   "metadata": {
    "collapsed": false
   },
   "outputs": [
    {
     "name": "stdout",
     "output_type": "stream",
     "text": [
      "55\n"
     ]
    }
   ],
   "source": [
    "print(wof.gen(n))"
   ]
  },
  {
   "cell_type": "markdown",
   "metadata": {},
   "source": [
    "<span>We can now test the execution time of our functions:</span>"
   ]
  },
  {
   "cell_type": "code",
   "execution_count": 11,
   "metadata": {
    "collapsed": false
   },
   "outputs": [
    {
     "name": "stdout",
     "output_type": "stream",
     "text": [
      "(55, 9.5367431640625e-07)\n",
      "(55, 2.1457672119140625e-06)\n",
      "(55, 1.430511474609375e-06)\n"
     ]
    }
   ],
   "source": [
    "functions = [wof.catalogued(n), wof.not_catalogued(n), wof.looping(n)]\n",
    "\n",
    "for i in range(len(functions)):\n",
    "    print(execution_time(functions[i], 1))"
   ]
  },
  {
   "cell_type": "code",
   "execution_count": 12,
   "metadata": {
    "collapsed": false
   },
   "outputs": [
    {
     "name": "stdout",
     "output_type": "stream",
     "text": [
      "Results and execution times for iteration #1: \n",
      "55 4.002499580383301e-08\n",
      "55 2.560114860534668e-08\n",
      "55 4.633188247680664e-08\n",
      "Results and execution times for iteration #2: \n",
      "55 2.7415990829467772e-08\n",
      "55 2.7586698532104493e-08\n",
      "55 2.6612281799316406e-08\n",
      "Results and execution times for iteration #3: \n",
      "55 2.8960585594177245e-08\n",
      "55 2.775239944458008e-08\n",
      "55 2.8133511543273924e-08\n",
      "Results and execution times for iteration #4: \n",
      "55 2.7982711791992188e-08\n",
      "55 2.6376962661743163e-08\n",
      "55 2.7578473091125488e-08\n"
     ]
    }
   ],
   "source": [
    "for x in range(4):\n",
    "    print('Results and execution times for iteration #' + str(x + 1) + ': ')\n",
    "    for i in range(len(functions)):\n",
    "        result, exponent = execution_time(functions[i], 2000000)\n",
    "        print(result, exponent)"
   ]
  },
  {
   "cell_type": "markdown",
   "metadata": {},
   "source": [
    "<span>As we can see, our execution time functions actually return exponents, example:\n",
    "<br>2.48490571975708e-08</br>\n",
    "<br></br>\n",
    "<br>Decimal representation for the exponent is roughly:</br>\n",
    "<br>2.48490571975708 × 10 ^ −8</br>\n",
    "</span>"
   ]
  },
  {
   "cell_type": "code",
   "execution_count": 13,
   "metadata": {
    "collapsed": false
   },
   "outputs": [
    {
     "name": "stdout",
     "output_type": "stream",
     "text": [
      "0.0000000276\n"
     ]
    }
   ],
   "source": [
    "print('{:.10f}'.format(float(exponent)))"
   ]
  },
  {
   "cell_type": "markdown",
   "metadata": {},
   "source": [
    "<span>Emphasis on \"roughly\"...<br></br><br>But as we can also see from the returned result above, returned execution times vary wildly...</br>\n",
    "\n",
    "This is because the chapter explains: \"Notice that when n is small, the functions are not very well defined with respect to one another. It is hard to tell which is dominant. However, as n grows, there is a definite relationship and it is easy to see how they compare with one another.\" Not only do the timings change for each function each time it is run, the problem of differentiating between them is exascerbated by the fact that with such small numbers timings between the different functions are relatively close.\n",
    "\n",
    "Because fib(n) is equal to 10, execution times between these various fibonacci functions won't vary much.\n",
    "\n",
    "Before we solve for Big-O... or order of magnitude:"
   ]
  },
  {
   "cell_type": "code",
   "execution_count": 16,
   "metadata": {
    "collapsed": false
   },
   "outputs": [
    {
     "name": "stdout",
     "output_type": "stream",
     "text": [
      "9227465 1.1920928955078125e-06\n",
      "9227465 2.384185791015625e-06\n",
      "9227465 1.9073486328125e-06\n"
     ]
    }
   ],
   "source": [
    "n = 35\n",
    "functions = [wof.catalogued(n), wof.not_catalogued(n), wof.looping(n)]\n",
    "\n",
    "for i in range(len(functions)):\n",
    "    result, exponent = execution_time(functions[i], 1)\n",
    "    print(result, exponent)"
   ]
  },
  {
   "cell_type": "code",
   "execution_count": null,
   "metadata": {
    "collapsed": true
   },
   "outputs": [],
   "source": []
  }
 ],
 "metadata": {
  "kernelspec": {
   "display_name": "Python 3",
   "language": "python",
   "name": "python3"
  },
  "language_info": {
   "codemirror_mode": {
    "name": "ipython",
    "version": 3
   },
   "file_extension": ".py",
   "mimetype": "text/x-python",
   "name": "python",
   "nbconvert_exporter": "python",
   "pygments_lexer": "ipython3",
   "version": "3.6.0"
  }
 },
 "nbformat": 4,
 "nbformat_minor": 2
}
