{
 "cells": [
  {
   "cell_type": "markdown",
   "metadata": {
    "collapsed": true
   },
   "source": [
    "<h1>Chapter 2: Analysis</h1>\n",
    "\n",
    "<span>\n",
    "My first jupyter notebook, demonstrating some code from class and the second chapter.\n",
    "    \n",
    "We explore somewhat how to write efficient algorithms. How do we define efficient though? Typically order of magnitude, or O(n\\*\\*2) is least efficient. This is because we are doubling n with each iteration or function of O. (In this case function of O is n squared.) On the scale of algorithm efficieny O(n\\*\\*2) is closer to being an exponential algorithm. Which is bad, becase if n is greater than a certain number modern computers would not be able to calculate for n, we want algorithms as close to linear as possible.\n",
    "</span>"
   ]
  },
  {
   "cell_type": "code",
   "execution_count": 109,
   "metadata": {
    "collapsed": true
   },
   "outputs": [],
   "source": [
    "import matplotlib.patches as patches\n",
    "from matplotlib import pyplot\n",
    "import math"
   ]
  },
  {
   "cell_type": "code",
   "execution_count": 110,
   "metadata": {
    "collapsed": true
   },
   "outputs": [],
   "source": [
    "from executiontime import execution_time"
   ]
  },
  {
   "cell_type": "code",
   "execution_count": 111,
   "metadata": {
    "collapsed": false
   },
   "outputs": [
    {
     "data": {
      "image/png": "[encoded data removed]",
      "text/plain": [
       "<matplotlib.figure.Figure at 0x7ff846484550>"
      ]
     },
     "metadata": {},
     "output_type": "display_data"
    }
   ],
   "source": [
    "from matplotlib import pyplot\n",
    "import math\n",
    "\n",
    "title = 'Plotting Big O(): '\n",
    "label_y = ''\n",
    "label_x = ''\n",
    "\n",
    "#\"Lower bound\"\n",
    "lb = 1\n",
    "#\"Upper bound\"\n",
    "ub = 100000\n",
    "\n",
    "vals = range(lb, ub)\n",
    "\n",
    "\n",
    "ub = ub * 100\n",
    "# Exponential\n",
    "exp = [x ** 2 for x in vals]\n",
    "\n",
    "# Linear\n",
    "fn = [10 * x + 0.1 * x * math.log(x) for x in vals]\n",
    "\n",
    "# Logorithmic\n",
    "gn = [0.01 * x ** 2 for x in vals]\n",
    "\n",
    "expplot = pyplot.plot(exp, label='Exponential')\n",
    "linplot = pyplot.plot(fn, label='Linear')\n",
    "logplot = pyplot.plot(gn, label='Logorithmic')\n",
    "\n",
    "pyplot.legend(loc='best')\n",
    "pyplot.ylabel(label_y)\n",
    "pyplot.xlabel(label_x)\n",
    "pyplot.title(title)\n",
    "pyplot.grid(False)\n",
    "\n",
    "\n",
    "pyplot.show()"
   ]
  },
  {
   "cell_type": "markdown",
   "metadata": {},
   "source": [
    "<h2>Finding substrings: </h2>"
   ]
  },
  {
   "cell_type": "markdown",
   "metadata": {},
   "source": [
    "This one was tricky, here's how <a href=\"http://pastebin.com/2SB6iAa6\">Dylan</a> or <a href=\"https://gist.github.com/ameerkat/626643\">this guy</a> wrote the algorithm.\n",
    "\n",
    "But I didn't want to do something so simple with so many lines of code. I wrote my own. This is my attempt at the <a href=\"https://en.wikipedia.org/wiki/Boyer%E2%80%93Moore_string_search_algorithm\">Boyer-Moore string search</a> algorithm:"
   ]
  },
  {
   "cell_type": "code",
   "execution_count": 112,
   "metadata": {
    "collapsed": false
   },
   "outputs": [
    {
     "name": "stdout",
     "output_type": "stream",
     "text": [
      "True\n",
      "False\n"
     ]
    }
   ],
   "source": [
    "string = 'bazbarthequickbrownfoxjumpsoverthelazydogoffthequickbrownfoxjumpsoverthelazydogthequickbrownoofjumpsoverthelazyfoo'\n",
    "substring = 'foo'\n",
    "\n",
    "def is_substring(substring, string):\n",
    "    lcolon = 0\n",
    "    rcolon = len(substring)\n",
    "\n",
    "    for iteration in range(len(string)):\n",
    "        lcolon += 1\n",
    "        rcolon += 1\n",
    "\n",
    "        fstring = string[lcolon:rcolon]\n",
    "        if fstring == substring:\n",
    "            found = True\n",
    "            return found\n",
    "        if rcolon >= len(string):\n",
    "            found = False\n",
    "            return found\n",
    "\n",
    "print(is_substring(substring, string))\n",
    "print(is_substring('bleh', 'blah'))"
   ]
  },
  {
   "cell_type": "markdown",
   "metadata": {},
   "source": [
    "Say we have the string \"ANPANMAN\" and want to find the substring \"PAN\", this is the Boyer-Moore algorithm in a nutshell:\n"
   ]
  },
  {
   "cell_type": "code",
   "execution_count": 113,
   "metadata": {
    "collapsed": false
   },
   "outputs": [
    {
     "name": "stdout",
     "output_type": "stream",
     "text": [
      "ANPANMAN\n",
      "ANP_____\n",
      ".NPA____\n",
      "..PAN___\n",
      "...ANM__\n",
      "....NMA_\n",
      ".....MAN\n",
      "......AN\n"
     ]
    }
   ],
   "source": [
    "string = 'ANPANMAN'\n",
    "\n",
    "print(string)\n",
    "fstring = string[0:3]\n",
    "print(fstring + '_____')\n",
    "fstring = string[1:4]\n",
    "print('.' + fstring + '____')\n",
    "fstring = string[2:5]\n",
    "print('..' + fstring + '___')\n",
    "fstring = string[3:6]\n",
    "print('...' + fstring + '__')\n",
    "fstring = string[4:7]\n",
    "print('....' + fstring + '_')\n",
    "fstring = string[5:8]\n",
    "print('.....' + fstring)\n",
    "fstring = string[6:9]\n",
    "print('......' + fstring)\n"
   ]
  },
  {
   "cell_type": "markdown",
   "metadata": {},
   "source": [
    "Demonstrating how I want my algorithm to behave:"
   ]
  },
  {
   "cell_type": "code",
   "execution_count": 114,
   "metadata": {
    "collapsed": false
   },
   "outputs": [
    {
     "name": "stdout",
     "output_type": "stream",
     "text": [
      "False\n",
      "False\n",
      "True\n"
     ]
    }
   ],
   "source": [
    "print(is_substring('foo', 'FOO'))\n",
    "print(is_substring('foo', 'oof'))\n",
    "print(is_substring('foo', 'foofoofoo'))"
   ]
  },
  {
   "cell_type": "markdown",
   "metadata": {},
   "source": [
    "<h2>Generating Random Strings: </h2>"
   ]
  },
  {
   "cell_type": "markdown",
   "metadata": {},
   "source": [
    "This was shown in the book. (And if I recall correctly in Jim showed an algorithm in class...)\n",
    "\n",
    "This is mine:"
   ]
  },
  {
   "cell_type": "code",
   "execution_count": null,
   "metadata": {
    "collapsed": true
   },
   "outputs": [],
   "source": []
  }
 ],
 "metadata": {
  "kernelspec": {
   "display_name": "Python 3",
   "language": "python",
   "name": "python3"
  },
  "language_info": {
   "codemirror_mode": {
    "name": "ipython",
    "version": 3
   },
   "file_extension": ".py",
   "mimetype": "text/x-python",
   "name": "python",
   "nbconvert_exporter": "python",
   "pygments_lexer": "ipython3",
   "version": "3.6.0"
  }
 },
 "nbformat": 4,
 "nbformat_minor": 2
}
