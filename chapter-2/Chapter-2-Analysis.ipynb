{
 "cells": [
  {
   "cell_type": "markdown",
   "metadata": {
    "collapsed": true
   },
   "source": [
    "<h1>Chapter 2: Analysis</h1>\n",
    "\n",
    "<span>\n",
    "My first jupyter notebook, demonstrating some code from class and the second chapter.\n",
    "    \n",
    "We explore somewhat how to write efficient algorithms. How do we define efficient though? Typically order of magnitude, or O(n\\*\\*2) is least efficient. This is because we are squaring n with each iteration or function of O. On the scale of algorithm efficieny O(n\\*\\*2) is closer to being an exponential algorithm. Which is bad, becase if n is greater than a certain number modern computers would not be able to calculate for n, we want algorithms as close to linear as possible. In the case that we are working with large amounts of data or doing huge mathematical expressions the problem becomes exponentially harder to solve, which takes more time.</span>"
   ]
  },
  {
   "cell_type": "code",
   "execution_count": 22,
   "metadata": {
    "collapsed": true
   },
   "outputs": [],
   "source": [
    "# Importing some things\n",
    "import matplotlib.patches as patches\n",
    "from matplotlib import pyplot\n",
    "from time import time\n",
    "import math\n",
    "from executiontime import execution_time\n",
    "from issubstring import *\n",
    "from random_string import *"
   ]
  },
  {
   "cell_type": "markdown",
   "metadata": {},
   "source": [
    "<h2>Plotting O(): </h2>"
   ]
  },
  {
   "cell_type": "code",
   "execution_count": 42,
   "metadata": {
    "collapsed": false
   },
   "outputs": [
    {
     "data": {
      "image/png": "[encoded data removed]",
      "text/plain": [
       "<matplotlib.figure.Figure at 0x7f297e3451d0>"
      ]
     },
     "metadata": {},
     "output_type": "display_data"
    }
   ],
   "source": [
    "title = 'Plotting Big O(): '\n",
    "label_y = ''\n",
    "label_x = ''\n",
    "\n",
    "#\"Lower bound\"\n",
    "lb = 1\n",
    "#\"Upper bound\"\n",
    "ub = 30000\n",
    "\n",
    "vals = range(lb, ub)\n",
    "\n",
    "\n",
    "ub = ub * 100\n",
    "# Exponential\n",
    "exp = [x ** 2 for x in vals]\n",
    "\n",
    "# Linear\n",
    "fn = [10 * x + 0.1 * x * math.log(x) for x in vals]\n",
    "\n",
    "# Logorithmic\n",
    "gn = [0.01 * x ** 2 for x in vals]\n",
    "\n",
    "expplot = pyplot.plot(exp, label='Exponential')\n",
    "linplot = pyplot.plot(fn, label='Linear')\n",
    "logplot = pyplot.plot(gn, label='Logorithmic')\n",
    "\n",
    "pyplot.legend(loc='best')\n",
    "pyplot.ylabel(label_y)\n",
    "pyplot.xlabel(label_x)\n",
    "pyplot.title(title)\n",
    "pyplot.grid(False)\n",
    "\n",
    "\n",
    "pyplot.show()"
   ]
  },
  {
   "cell_type": "markdown",
   "metadata": {},
   "source": [
    "In this case the Linear function which is green on the plot above, is the fastest algorithm. Another way to think about the problem of writing efficient algorithms: an ideal algorithm would be written such that it both takes the least amount of steps and that the steps taken also take the least amount of steps themselves. Since python is a very high level language as n becomes larger so too do the amount of steps exponentially, making processing times grow exponentially as well. So an ideal algorithm scales in order of magnitude as linearly as possible."
   ]
  },
  {
   "cell_type": "markdown",
   "metadata": {},
   "source": [
    "<h2>Finding substrings: </h2>"
   ]
  },
  {
   "cell_type": "markdown",
   "metadata": {},
   "source": [
    "This one was tricky, here's how <a href=\"http://pastebin.com/2SB6iAa6\">Dylan</a> or <a href=\"https://gist.github.com/ameerkat/626643\">this guy</a> wrote the algorithm.\n",
    "\n",
    "But I didn't want to do something so simple with so many lines of code. I wrote my own. This is my attempt at the <a href=\"https://en.wikipedia.org/wiki/Boyer%E2%80%93Moore_string_search_algorithm\">Boyer-Moore string search</a> algorithm:"
   ]
  },
  {
   "cell_type": "code",
   "execution_count": 5,
   "metadata": {
    "collapsed": false
   },
   "outputs": [
    {
     "name": "stdout",
     "output_type": "stream",
     "text": [
      "True\n",
      "False\n"
     ]
    }
   ],
   "source": [
    "string = 'bazbarthequickbrownfoxjumpsoverthelazydogoffthequickbrownfoxjumpsoverthelazydogthequickbrownoofjumpsoverthelazyfoo'\n",
    "substring = 'foo'\n",
    "\n",
    "print(isSubStr().is_substring(substring, string))\n",
    "print(isSubStr().is_substring('bleh', 'blah'))"
   ]
  },
  {
   "cell_type": "markdown",
   "metadata": {},
   "source": [
    "Say we have the string \"ANPANMAN\" and want to find the substring \"PAN\", this is the Boyer-Moore algorithm in a nutshell:\n"
   ]
  },
  {
   "cell_type": "code",
   "execution_count": 6,
   "metadata": {
    "collapsed": false
   },
   "outputs": [
    {
     "name": "stdout",
     "output_type": "stream",
     "text": [
      "ANPANMAN\n",
      "ANP_____\n",
      ".NPA____\n",
      "..PAN___\n",
      "...ANM__\n",
      "....NMA_\n",
      ".....MAN\n",
      "......AN\n"
     ]
    }
   ],
   "source": [
    "string = 'ANPANMAN'\n",
    "\n",
    "print(string)\n",
    "fstring = string[0:3]\n",
    "print(fstring + '_____')\n",
    "fstring = string[1:4]\n",
    "print('.' + fstring + '____')\n",
    "fstring = string[2:5]\n",
    "print('..' + fstring + '___')\n",
    "fstring = string[3:6]\n",
    "print('...' + fstring + '__')\n",
    "fstring = string[4:7]\n",
    "print('....' + fstring + '_')\n",
    "fstring = string[5:8]\n",
    "print('.....' + fstring)\n",
    "fstring = string[6:9]\n",
    "print('......' + fstring)\n"
   ]
  },
  {
   "cell_type": "markdown",
   "metadata": {},
   "source": [
    "Demonstrating how I want my algorithm to behave:"
   ]
  },
  {
   "cell_type": "code",
   "execution_count": 7,
   "metadata": {
    "collapsed": false
   },
   "outputs": [
    {
     "name": "stdout",
     "output_type": "stream",
     "text": [
      "False\n",
      "False\n",
      "True\n"
     ]
    }
   ],
   "source": [
    "print(isSubStr().is_substring('foo', 'FOO'))\n",
    "print(isSubStr().is_substring('foo', 'oof'))\n",
    "print(isSubStr().is_substring('foo', 'foofoofoo'))"
   ]
  },
  {
   "cell_type": "markdown",
   "metadata": {},
   "source": [
    "Of course this is just to demonstrate learning how to implement an algorithm from scratch (and testing for O()), but there's the default function:\n"
   ]
  },
  {
   "cell_type": "code",
   "execution_count": 8,
   "metadata": {
    "collapsed": false
   },
   "outputs": [
    {
     "name": "stdout",
     "output_type": "stream",
     "text": [
      "False\n",
      "False\n",
      "True\n"
     ]
    }
   ],
   "source": [
    "print(isSubStr().default_is_substring('foo', 'FOO'))\n",
    "print(isSubStr().default_is_substring('foo', 'oof'))\n",
    "print(isSubStr().default_is_substring('foo', 'foofoofoo'))"
   ]
  },
  {
   "cell_type": "markdown",
   "metadata": {},
   "source": [
    "<a href='https://github.com/RomanSC/algorithms/blob/master/chapter-2/issubstring.py'>Source on Github</a>\n",
    "<pre>\n",
    "<!-- HTML generated using hilite.me --><div style=\"background: #ffffff; overflow:auto;width:auto;border:solid gray;border-width:.1em .1em .1em .8em;padding:.2em .6em;\"><pre style=\"margin: 0; line-height: 125%\"><span style=\"color: #DD4422\">&quot;&quot;&quot; issubstring.py | Tue, Jan 31, 2017 | Roman S. Collins</span>\n",
    "\n",
    "<span style=\"color: #DD4422\">    Implementation of Boyer-Moore string search algorithm in Python.</span>\n",
    "\n",
    "<span style=\"color: #DD4422\">    Source:</span>\n",
    "<span style=\"color: #DD4422\">    https://en.wikipedia.org/wiki/Boyer%E2%80%93Moore_string_search_algorithm</span>\n",
    "<span style=\"color: #DD4422\">    https://duckduckgo.com/?q=python+substring+function&amp;t=ffab&amp;ia=q://duckduckgo.com/?q=python+substring+function&amp;t=ffab&amp;ia=qa</span>\n",
    "\n",
    "<span style=\"color: #DD4422\">&quot;&quot;&quot;</span>\n",
    "\n",
    "<span style=\"color: #008800; font-weight: bold\">class</span> <span style=\"color: #BB0066; font-weight: bold\">isSubStr</span>:\n",
    "    string <span style=\"color: #333333\">=</span> <span style=\"background-color: #fff0f0\">&#39;checkoffcheckoofcheckfool&#39;</span>\n",
    "    substring <span style=\"color: #333333\">=</span> <span style=\"background-color: #fff0f0\">&#39;foo&#39;</span>\n",
    "\n",
    "    <span style=\"color: #008800; font-weight: bold\">def</span> <span style=\"color: #0066BB; font-weight: bold\">is_substring</span>(<span style=\"color: #007020\">self</span>, substring, string):\n",
    "        lcolon <span style=\"color: #333333\">=</span> <span style=\"color: #0000DD; font-weight: bold\">0</span>; rcolon <span style=\"color: #333333\">=</span> <span style=\"color: #007020\">len</span>(substring); found <span style=\"color: #333333\">=</span> <span style=\"color: #007020\">False</span>\n",
    "\n",
    "        <span style=\"color: #008800; font-weight: bold\">for</span> a_iteration <span style=\"color: #000000; font-weight: bold\">in</span> <span style=\"color: #007020\">range</span>(<span style=\"color: #007020\">len</span>(string) <span style=\"color: #333333\">+</span> <span style=\"color: #0000DD; font-weight: bold\">1</span>):\n",
    "            astring <span style=\"color: #333333\">=</span> string[lcolon:rcolon]\n",
    "            lcolon <span style=\"color: #333333\">+=</span> <span style=\"color: #0000DD; font-weight: bold\">1</span>; rcolon <span style=\"color: #333333\">+=</span> <span style=\"color: #0000DD; font-weight: bold\">1</span>; check_char <span style=\"color: #333333\">=</span> <span style=\"color: #0000DD; font-weight: bold\">0</span>\n",
    "\n",
    "            <span style=\"color: #008800; font-weight: bold\">for</span> b_iteration <span style=\"color: #000000; font-weight: bold\">in</span> <span style=\"color: #007020\">range</span>(<span style=\"color: #007020\">len</span>(astring)):\n",
    "                <span style=\"color: #008800; font-weight: bold\">if</span> astring[b_iteration] <span style=\"color: #333333\">==</span> substring[b_iteration]:\n",
    "                    check_char <span style=\"color: #333333\">+=</span> <span style=\"color: #0000DD; font-weight: bold\">1</span>\n",
    "\n",
    "                    <span style=\"color: #008800; font-weight: bold\">if</span> check_char <span style=\"color: #333333\">==</span> <span style=\"color: #007020\">len</span>(substring):\n",
    "                        found <span style=\"color: #333333\">=</span> <span style=\"color: #007020\">True</span>\n",
    "\n",
    "            <span style=\"color: #008800; font-weight: bold\">if</span> found <span style=\"color: #333333\">==</span> <span style=\"color: #007020\">True</span>:\n",
    "                <span style=\"color: #008800; font-weight: bold\">return</span> found\n",
    "\n",
    "            <span style=\"color: #888888\">#if astring == substring:</span>\n",
    "            <span style=\"color: #888888\"># Still comparing whole strings</span>\n",
    "            <span style=\"color: #888888\">#    found = True</span>\n",
    "            <span style=\"color: #888888\">#    return found</span>\n",
    "            <span style=\"color: #888888\">#    pass</span>\n",
    "\n",
    "            <span style=\"color: #008800; font-weight: bold\">if</span> rcolon <span style=\"color: #333333\">&gt;=</span> (<span style=\"color: #007020\">len</span>(string) <span style=\"color: #333333\">+</span> <span style=\"color: #0000DD; font-weight: bold\">1</span>):\n",
    "                found <span style=\"color: #333333\">=</span> <span style=\"color: #007020\">False</span>\n",
    "                <span style=\"color: #008800; font-weight: bold\">return</span> found\n",
    "\n",
    "    <span style=\"color: #008800; font-weight: bold\">def</span> <span style=\"color: #0066BB; font-weight: bold\">default_is_substring</span>(<span style=\"color: #007020\">self</span>, a, b):\n",
    "        <span style=\"color: #008800; font-weight: bold\">return</span> a <span style=\"color: #000000; font-weight: bold\">in</span> b\n",
    "\n",
    "<span style=\"color: #008800; font-weight: bold\">def</span> <span style=\"color: #0066BB; font-weight: bold\">main</span>():\n",
    "    <span style=\"color: #DD4422\">&quot;&quot;&quot; Doctest:</span>\n",
    "<span style=\"color: #DD4422\">    &gt;&gt;&gt; string = &#39;ANPANMAN&#39;</span>\n",
    "<span style=\"color: #DD4422\">    &gt;&gt;&gt; substring = &#39;PAN&#39;</span>\n",
    "<span style=\"color: #DD4422\">    &gt;&gt;&gt; print(isSubStr().is_substring(substring, string))</span>\n",
    "<span style=\"color: #DD4422\">    True</span>\n",
    "<span style=\"color: #DD4422\">    &gt;&gt;&gt; print(isSubStr().default_is_substring(substring, string))</span>\n",
    "<span style=\"color: #DD4422\">    True</span>\n",
    "<span style=\"color: #DD4422\">    &quot;&quot;&quot;</span>\n",
    "    string <span style=\"color: #333333\">=</span> <span style=\"background-color: #fff0f0\">&#39;ANPANMAN&#39;</span>\n",
    "    substring <span style=\"color: #333333\">=</span> <span style=\"background-color: #fff0f0\">&#39;PAN&#39;</span>\n",
    "\n",
    "    <span style=\"color: #008800; font-weight: bold\">while</span> isSubStr()<span style=\"color: #333333\">.</span>is_substring(substring, string):\n",
    "        <span style=\"color: #008800; font-weight: bold\">break</span>\n",
    "        <span style=\"color: #008800; font-weight: bold\">print</span>(isSubStr()<span style=\"color: #333333\">.</span>is_substring(substring, string))\n",
    "\n",
    "<span style=\"color: #008800; font-weight: bold\">if</span> __name__<span style=\"color: #333333\">==</span><span style=\"background-color: #fff0f0\">&#39;__main__&#39;</span>:\n",
    "    main()\n",
    "</pre></div>\n",
    "</pre>"
   ]
  },
  {
   "cell_type": "markdown",
   "metadata": {},
   "source": [
    "<h2>Generating Random Strings: </h2>"
   ]
  },
  {
   "cell_type": "markdown",
   "metadata": {},
   "source": [
    "This was shown in the book as the monkey theorem problem. (And if I recall correctly in Jim showed an algorithm in class...)\n",
    "\n",
    "This is mine. The function takes n equal to the length of the string you would like. Possible characters are simply every letter in the English alphabet plus space:"
   ]
  },
  {
   "cell_type": "code",
   "execution_count": 9,
   "metadata": {
    "collapsed": false
   },
   "outputs": [
    {
     "name": "stdout",
     "output_type": "stream",
     "text": [
      "leyudfawqv\n"
     ]
    }
   ],
   "source": [
    "print(randStr().rand_string(10))"
   ]
  },
  {
   "cell_type": "markdown",
   "metadata": {
    "collapsed": true
   },
   "source": [
    "<a href='https://github.com/RomanSC/algorithms/blob/master/chapter-2/random_string.py'>Source on Github</a>\n",
    "\n",
    "<pre>\n",
    "<!-- HTML generated using hilite.me --><div style=\"background: #ffffff; overflow:auto;width:auto;border:solid gray;border-width:.1em .1em .1em .8em;padding:.2em .6em;\"><pre style=\"margin: 0; line-height: 125%\"><span style=\"color: #DD4422\">&quot;&quot;&quot; random_string.py | Wed, Feb 01, 2017 | Roman S. Collins</span>\n",
    "\n",
    "<span style=\"color: #DD4422\">    Demonstrating returning random strings in Python.</span>\n",
    "\n",
    "<span style=\"color: #DD4422\">&quot;&quot;&quot;</span>\n",
    "<span style=\"color: #008800; font-weight: bold\">import</span> <span style=\"color: #0e84b5; font-weight: bold\">random</span>\n",
    "\n",
    "<span style=\"color: #008800; font-weight: bold\">class</span> <span style=\"color: #BB0066; font-weight: bold\">randStr</span>:\n",
    "    <span style=\"color: #008800; font-weight: bold\">def</span> <span style=\"color: #0066BB; font-weight: bold\">rand_string</span>(<span style=\"color: #007020\">self</span>, n):\n",
    "        abc <span style=\"color: #333333\">=</span> [<span style=\"background-color: #fff0f0\">&#39;a&#39;</span>, <span style=\"background-color: #fff0f0\">&#39;b&#39;</span>, <span style=\"background-color: #fff0f0\">&#39;c&#39;</span>, <span style=\"background-color: #fff0f0\">&#39;d&#39;</span>, <span style=\"background-color: #fff0f0\">&#39;e&#39;</span>, <span style=\"background-color: #fff0f0\">&#39;f&#39;</span>, <span style=\"background-color: #fff0f0\">&#39;g&#39;</span>, <span style=\"background-color: #fff0f0\">&#39;h&#39;</span>, <span style=\"background-color: #fff0f0\">&#39;i&#39;</span>, <span style=\"background-color: #fff0f0\">&#39;j&#39;</span>, <span style=\"background-color: #fff0f0\">&#39;k&#39;</span>, <span style=\"background-color: #fff0f0\">&#39;l&#39;</span>, <span style=\"background-color: #fff0f0\">&#39;m&#39;</span>,\n",
    "                    <span style=\"background-color: #fff0f0\">&#39;n&#39;</span>, <span style=\"background-color: #fff0f0\">&#39;o&#39;</span>, <span style=\"background-color: #fff0f0\">&#39;p&#39;</span>, <span style=\"background-color: #fff0f0\">&#39;q&#39;</span>, <span style=\"background-color: #fff0f0\">&#39;r&#39;</span>, <span style=\"background-color: #fff0f0\">&#39;s&#39;</span>, <span style=\"background-color: #fff0f0\">&#39;t&#39;</span>, <span style=\"background-color: #fff0f0\">&#39;u&#39;</span>, <span style=\"background-color: #fff0f0\">&#39;v&#39;</span>,\n",
    "                    <span style=\"background-color: #fff0f0\">&#39;w&#39;</span>, <span style=\"background-color: #fff0f0\">&#39;x&#39;</span>, <span style=\"background-color: #fff0f0\">&#39;y&#39;</span>, <span style=\"background-color: #fff0f0\">&#39;z&#39;</span>, <span style=\"background-color: #fff0f0\">&#39; &#39;</span>]\n",
    "        abc_copy <span style=\"color: #333333\">=</span> <span style=\"color: #007020\">list</span>(abc[x] <span style=\"color: #008800; font-weight: bold\">for</span> x <span style=\"color: #000000; font-weight: bold\">in</span> <span style=\"color: #007020\">range</span>(<span style=\"color: #007020\">len</span>(abc)))\n",
    "        <span style=\"color: #008800; font-weight: bold\">return</span> <span style=\"background-color: #fff0f0\">&#39;&#39;</span><span style=\"color: #333333\">.</span>join(random<span style=\"color: #333333\">.</span>sample(abc_copy, n))\n",
    "\n",
    "<span style=\"color: #008800; font-weight: bold\">def</span> <span style=\"color: #0066BB; font-weight: bold\">main</span>():\n",
    "    <span style=\"color: #DD4422\">&quot;&quot;&quot; Again only sanity checks, because output of the</span>\n",
    "<span style=\"color: #DD4422\">        function changes.</span>\n",
    "\n",
    "<span style=\"color: #DD4422\">        Doctest:</span>\n",
    "<span style=\"color: #DD4422\">        &gt;&gt;&gt; len(randStr().rand_string(10))</span>\n",
    "<span style=\"color: #DD4422\">        10</span>\n",
    "<span style=\"color: #DD4422\">        &gt;&gt;&gt; isinstance(randStr().rand_string(10), str)</span>\n",
    "<span style=\"color: #DD4422\">        True</span>\n",
    "<span style=\"color: #DD4422\">    &quot;&quot;&quot;</span>\n",
    "    <span style=\"color: #888888\"># Fill main with something other than pass</span>\n",
    "    <span style=\"color: #008800; font-weight: bold\">print</span>(randStr()<span style=\"color: #333333\">.</span>rand_string(<span style=\"color: #0000DD; font-weight: bold\">10</span>))\n",
    "\n",
    "\n",
    "<span style=\"color: #008800; font-weight: bold\">if</span> __name__<span style=\"color: #333333\">==</span><span style=\"background-color: #fff0f0\">&#39;__main__&#39;</span>:\n",
    "    main()\n",
    "</pre></div>\n",
    "\n",
    "</pre>"
   ]
  },
  {
   "cell_type": "markdown",
   "metadata": {},
   "source": [
    "<h2>Plotting is_substring(): </h2>\n",
    "\n",
    "Let's find out how my algorithm scales compared to Python's builtin version, and some others:"
   ]
  },
  {
   "cell_type": "code",
   "execution_count": 14,
   "metadata": {
    "collapsed": false
   },
   "outputs": [
    {
     "ename": "AttributeError",
     "evalue": "'isSubStr' object has no attribute 'dylan_is_substring'",
     "output_type": "error",
     "traceback": [
      "\u001b[0;31m---------------------------------------------------------------------------\u001b[0m",
      "\u001b[0;31mAttributeError\u001b[0m                            Traceback (most recent call last)",
      "\u001b[0;32m<ipython-input-14-14c2b407a8ad>\u001b[0m in \u001b[0;36m<module>\u001b[0;34m()\u001b[0m\n\u001b[1;32m     58\u001b[0m \u001b[0;34m\u001b[0m\u001b[0m\n\u001b[1;32m     59\u001b[0m \u001b[0;32mif\u001b[0m \u001b[0m__name__\u001b[0m \u001b[0;34m==\u001b[0m \u001b[0;34m'__main__'\u001b[0m\u001b[0;34m:\u001b[0m\u001b[0;34m\u001b[0m\u001b[0m\n\u001b[0;32m---> 60\u001b[0;31m     \u001b[0mmain\u001b[0m\u001b[0;34m(\u001b[0m\u001b[0;34m)\u001b[0m\u001b[0;34m\u001b[0m\u001b[0m\n\u001b[0m",
      "\u001b[0;32m<ipython-input-14-14c2b407a8ad>\u001b[0m in \u001b[0;36mmain\u001b[0;34m()\u001b[0m\n\u001b[1;32m     29\u001b[0m \u001b[0;34m\u001b[0m\u001b[0m\n\u001b[1;32m     30\u001b[0m     \u001b[0;32mfor\u001b[0m \u001b[0mi\u001b[0m \u001b[0;32min\u001b[0m \u001b[0mrange\u001b[0m\u001b[0;34m(\u001b[0m\u001b[0;36m1\u001b[0m\u001b[0;34m,\u001b[0m \u001b[0mn\u001b[0m \u001b[0;34m+\u001b[0m \u001b[0;36m1\u001b[0m\u001b[0;34m)\u001b[0m\u001b[0;34m:\u001b[0m\u001b[0;34m\u001b[0m\u001b[0m\n\u001b[0;32m---> 31\u001b[0;31m         \u001b[0mdylan_is_substring_time\u001b[0m \u001b[0;34m=\u001b[0m \u001b[0mexecution_time\u001b[0m\u001b[0;34m(\u001b[0m\u001b[0misSubStr\u001b[0m\u001b[0;34m(\u001b[0m\u001b[0;34m)\u001b[0m\u001b[0;34m.\u001b[0m\u001b[0mdylan_is_substring\u001b[0m\u001b[0;34m(\u001b[0m\u001b[0msubstring\u001b[0m\u001b[0;34m,\u001b[0m \u001b[0mfullstring\u001b[0m\u001b[0;34m)\u001b[0m\u001b[0;34m,\u001b[0m \u001b[0;36m10000\u001b[0m\u001b[0;34m)\u001b[0m\u001b[0;34m\u001b[0m\u001b[0m\n\u001b[0m\u001b[1;32m     32\u001b[0m         \u001b[0mdylan_is_substring_times\u001b[0m\u001b[0;34m.\u001b[0m\u001b[0mappend\u001b[0m\u001b[0;34m(\u001b[0m\u001b[0mdylan_is_substring_time\u001b[0m\u001b[0;34m[\u001b[0m\u001b[0;36m1\u001b[0m\u001b[0;34m]\u001b[0m\u001b[0;34m)\u001b[0m\u001b[0;34m\u001b[0m\u001b[0m\n\u001b[1;32m     33\u001b[0m         \u001b[0;31m#print(is_substring_times)\u001b[0m\u001b[0;34m\u001b[0m\u001b[0;34m\u001b[0m\u001b[0m\n",
      "\u001b[0;31mAttributeError\u001b[0m: 'isSubStr' object has no attribute 'dylan_is_substring'"
     ]
    }
   ],
   "source": [
    "from executiontime import execution_time\n",
    "from issubstring import *\n",
    "from matplotlib import pyplot\n",
    "\n",
    "def main():\n",
    "    \"\"\" n is equal to the sample size, each sample is 10,000 iterations of each function\n",
    "        to attempt to get a more accurate average execution time from system time.\n",
    "    \"\"\"\n",
    "    n = 30000\n",
    "    substring = 'PAN'\n",
    "    fullstring = 'ANPANMAN'\n",
    "\n",
    "    is_substring_times = []\n",
    "\n",
    "    for i in range(1, n + 1):\n",
    "        is_substring_time = execution_time(isSubStr().is_substring(substring, fullstring), 10000)\n",
    "        is_substring_times.append(is_substring_time[1])\n",
    "        #print(is_substring_times)\n",
    "\n",
    "    pyplot.plot(is_substring_times, label='is_substring()')\n",
    "\n",
    "    default_is_substring_times = []\n",
    "\n",
    "    for i in range(1, n + 1):\n",
    "        default_is_substring_time = execution_time(isSubStr().default_is_substring(substring, fullstring), 10000)\n",
    "        default_is_substring_times.append(default_is_substring_time[1])\n",
    "        #print(default_is_substring_times)\n",
    "\n",
    "    pyplot.plot(default_is_substring_times, label='default_is_substring()')\n",
    "\n",
    "    dylan_is_substring_times = []\n",
    "\n",
    "    for i in range(1, n + 1):\n",
    "        dylan_is_substring_time = execution_time(isSubStr().dylan_is_substring(substring, fullstring), 10000)\n",
    "        dylan_is_substring_times.append(dylan_is_substring_time[1])\n",
    "        #print(is_substring_times)\n",
    "\n",
    "    pyplot.plot(dylan_is_substring_times, label='dylan_is_substring()')\n",
    "\n",
    "    jim_is_substring_times = []\n",
    "\n",
    "    for i in range(1, n + 1):\n",
    "        jim_is_substring_time = execution_time(isSubStr().jim_is_substring(substring, fullstring), 10000)\n",
    "        jim_is_substring_times.append(jim_is_substring_time[1])\n",
    "        #print(is_substring_times)\n",
    "\n",
    "    pyplot.plot(jim_is_substring_times, label='jim_is_substring()')\n",
    "\n",
    "\n",
    "    title = 'Plotting Substring Search Algorithms: '\n",
    "    label_y = ''\n",
    "    label_x = ''\n",
    "\n",
    "    pyplot.legend(loc='best')\n",
    "    pyplot.ylabel(label_y)\n",
    "    pyplot.xlabel(label_x)\n",
    "    pyplot.title(title)\n",
    "    pyplot.grid(False)\n",
    "\n",
    "    pyplot.show()\n",
    "\n",
    "if __name__ == '__main__':\n",
    "    main()"
   ]
  },
  {
   "cell_type": "code",
   "execution_count": null,
   "metadata": {
    "collapsed": true
   },
   "outputs": [],
   "source": [
    "def main():\n",
    "    n = 100\n",
    "    substring = 'fjwefiojxcvnm'\n",
    "    fullstring = \"\"\"asdfkljasdflkalsdkfjlasdflkjasdflkjasdflasdflkjasdflkjasdflkjasdfljkasdflkjasdflkjasdflkjas\n",
    "                    dflkjfghdsfkljljweoidfjwefiojxcvnm\"\"\"\n",
    "\n",
    "    is_substring_times = []\n",
    "\n",
    "    for i in range(1, n + 1):\n",
    "        is_substring_time = execution_time(isSubStr().is_substring(substring, fullstring), 10000)\n",
    "        is_substring_times.append(is_substring_time[1])\n",
    "        #print(is_substring_times)\n",
    "\n",
    "    pyplot.plot(is_substring_times, label='is_substring()')\n",
    "\n",
    "    default_is_substring_times = []\n",
    "\n",
    "    for i in range(1, n + 1):\n",
    "        default_is_substring_time = execution_time(isSubStr().default_is_substring(substring, fullstring), 10000)\n",
    "        default_is_substring_times.append(default_is_substring_time[1])\n",
    "        #print(default_is_substring_times)\n",
    "\n",
    "    pyplot.plot(default_is_substring_times, label='default_is_substring()')\n",
    "\n",
    "    dylan_is_substring_times = []\n",
    "\n",
    "    for i in range(1, n + 1):\n",
    "        dylan_is_substring_time = execution_time(isSubStr().dylan_is_substring(substring, fullstring), 10000)\n",
    "        dylan_is_substring_times.append(dylan_is_substring_time[1])\n",
    "        #print(is_substring_times)\n",
    "\n",
    "    pyplot.plot(dylan_is_substring_times, label='dylan_is_substring()')\n",
    "\n",
    "    jim_is_substring_times = []\n",
    "\n",
    "    for i in range(1, n + 1):\n",
    "        jim_is_substring_time = execution_time(isSubStr().jim_is_substring(substring, fullstring), 10000)\n",
    "        jim_is_substring_times.append(jim_is_substring_time[1])\n",
    "        #print(is_substring_times)\n",
    "\n",
    "    pyplot.plot(jim_is_substring_times, label='jim_is_substring()')\n",
    "\n",
    "\n",
    "    title = 'Plotting Substring Search Algorithms: '\n",
    "    label_y = ''\n",
    "    label_x = ''\n",
    "\n",
    "    pyplot.legend(loc='best')\n",
    "    pyplot.ylabel(label_y)\n",
    "    pyplot.xlabel(label_x)\n",
    "    pyplot.title(title)\n",
    "    pyplot.grid(False)\n",
    "\n",
    "    pyplot.show()\n",
    "\n",
    "if __name__ == '__main__':\n",
    "    main()"
   ]
  }
 ],
 "metadata": {
  "kernelspec": {
   "display_name": "Python 3",
   "language": "python",
   "name": "python3"
  },
  "language_info": {
   "codemirror_mode": {
    "name": "ipython",
    "version": 3
   },
   "file_extension": ".py",
   "mimetype": "text/x-python",
   "name": "python",
   "nbconvert_exporter": "python",
   "pygments_lexer": "ipython3",
   "version": "3.6.0"
  }
 },
 "nbformat": 4,
 "nbformat_minor": 2
}
