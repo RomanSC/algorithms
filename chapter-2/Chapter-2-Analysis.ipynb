{
 "cells": [
  {
   "cell_type": "code",
   "execution_count": null,
   "metadata": {
    "collapsed": true
   },
   "outputs": [],
   "source": [
    "<h1>Chapter 2: Analysis</h1>\n",
    "\n",
    "<span>\n",
    "    My first jupyter notebook, demonstrating some code from class and the chapter.\n",
    "</span>"
   ]
  },
  {
   "cell_type": "code",
   "execution_count": 28,
   "metadata": {
    "collapsed": false
   },
   "outputs": [
    {
     "name": "stdout",
     "output_type": "stream",
     "text": [
      "Hello world!\n"
     ]
    }
   ],
   "source": [
    "print('Hello world!')"
   ]
  },
  {
   "cell_type": "code",
   "execution_count": 34,
   "metadata": {
    "collapsed": true
   },
   "outputs": [],
   "source": [
    "from matplotlib import pyplot"
   ]
  },
  {
   "cell_type": "markdown",
   "metadata": {},
   "source": [
    "<span>First I created an execution time function that can be easily imported and is what I call \"function agnostic.\" Meaning, I can import my function and pass functions to the function and get the result (whatever the function returns, and the time it took to execute:</span>"
   ]
  },
  {
   "cell_type": "code",
   "execution_count": 5,
   "metadata": {
    "collapsed": true
   },
   "outputs": [],
   "source": [
    "from executiontime import execution_time"
   ]
  },
  {
   "cell_type": "markdown",
   "metadata": {},
   "source": [
    "<span>After importing, calling my function looks like this:</span>"
   ]
  },
  {
   "cell_type": "code",
   "execution_count": 6,
   "metadata": {
    "collapsed": true
   },
   "outputs": [],
   "source": [
    "result, exec_time = execution_time(sum([1, 2, 3]), 1000000)"
   ]
  },
  {
   "cell_type": "code",
   "execution_count": 7,
   "metadata": {
    "collapsed": false
   },
   "outputs": [
    {
     "name": "stdout",
     "output_type": "stream",
     "text": [
      "Here's the result of the sum of 1, 2, and 3, executed 1000000 times, and the execution time: (6, 2.6320934295654296e-08)\n"
     ]
    }
   ],
   "source": [
    "print('Here\\'s the result of the sum of 1, 2, and 3, executed 1000000 times, and the execution time:', execution_time(sum([1, 2, 3]), 1000000))"
   ]
  },
  {
   "cell_type": "markdown",
   "metadata": {},
   "source": [
    "<span>Here's the code...\n",
    "\n",
    "Note: Please see docstring for execution_time() function source:\n",
    "\n",
    "</span>\n",
    "\n",
    "<code>\n",
    "\"\"\" execution-time.py | Mon, Jan 30, 2017 | Roman S. Collins\n",
    "Demonstrating how to calculate execution time using a function\n",
    "in Python...\n",
    "Jim's example:\n",
    "def run_time(f, n, loopcount=1000):\n",
    "    # Return the run time in seconds of f(n)\n",
    "    # see https://docs.python.org/2/library/time.html\n",
    "    from time import time\n",
    "    start = time()\n",
    "    for loop in range(loopcount):\n",
    "        anwer = f(n)\n",
    "    end = time()\n",
    "    return (end - start)/loopcount\n",
    "Assumes a specific function is called within the loop.\n",
    "Whereas attempt to make my loop \"function agnostic\",\n",
    "ultimately not that different though\n",
    "\"\"\"\n",
    "\n",
    "from doctest import testmod\n",
    "from time import time\n",
    "\n",
    "def execution_time(some_function, iter_count):\n",
    "    start_time = time()\n",
    "\n",
    "    for iterations in range(iter_count):\n",
    "        result = some_function\n",
    "\n",
    "    end_time = time()\n",
    "\n",
    "    exec_time = (end_time - start_time) / iter_count\n",
    "\n",
    "    return result, exec_time\n",
    "\n",
    "def main():\n",
    "    \"\"\" Hard to doctest ever changing variables so maybe this is the best\n",
    "        we can do?\n",
    "        Doctest:\n",
    "        >>> sus = [1, 3, 34, 53, 645, 234, 6234, 111, 1123, 100, 12, 12, 23]\n",
    "        >>> result, exec_time = execution_time(sum(sus), 2000000)\n",
    "        >>> isinstance(result, int)\n",
    "        True\n",
    "        >>> isinstance(exec_time, float)\n",
    "        True\n",
    "    \"\"\"\n",
    "\n",
    "    sus = [1, 3, 34, 53, 645, 234, 6234, 111, 1123, 100, 12, 12, 23]\n",
    "\n",
    "    result, exec_time = execution_time(sum(sus), 2000000)\n",
    "\n",
    "    print('TEST: print \\\"result\\\", \\\"exec_time\\\":', result, exec_time)\n",
    "\n",
    "if __name__=='__main__':\n",
    "    testmod()\n",
    "main()\n",
    "</code>"
   ]
  },
  {
   "cell_type": "markdown",
   "metadata": {
    "collapsed": true
   },
   "source": [
    "<span>Let's grab some code from the last assingment to test our new function... \n",
    "\n",
    "$ cp -r ../chapter-1/waysoffib.py .\n",
    "\n",
    "</span>"
   ]
  },
  {
   "cell_type": "code",
   "execution_count": 8,
   "metadata": {
    "collapsed": true
   },
   "outputs": [],
   "source": [
    "from waysoffib import *"
   ]
  },
  {
   "cell_type": "code",
   "execution_count": 9,
   "metadata": {
    "collapsed": false
   },
   "outputs": [
    {
     "data": {
      "text/plain": [
       "['In',\n",
       " 'Memoize',\n",
       " 'Out',\n",
       " 'WAYSOFFIB',\n",
       " '_',\n",
       " '_3',\n",
       " '__',\n",
       " '___',\n",
       " '__builtin__',\n",
       " '__builtins__',\n",
       " '__doc__',\n",
       " '__loader__',\n",
       " '__name__',\n",
       " '__package__',\n",
       " '__spec__',\n",
       " '_dh',\n",
       " '_i',\n",
       " '_i1',\n",
       " '_i2',\n",
       " '_i3',\n",
       " '_i4',\n",
       " '_i5',\n",
       " '_i6',\n",
       " '_i7',\n",
       " '_i8',\n",
       " '_i9',\n",
       " '_ih',\n",
       " '_ii',\n",
       " '_iii',\n",
       " '_oh',\n",
       " '_sh',\n",
       " 'a',\n",
       " 'b',\n",
       " 'exec_time',\n",
       " 'execution_time',\n",
       " 'exit',\n",
       " 'get_ipython',\n",
       " 'main',\n",
       " 'quit',\n",
       " 'result',\n",
       " 'sys']"
      ]
     },
     "execution_count": 9,
     "metadata": {},
     "output_type": "execute_result"
    }
   ],
   "source": [
    "dir()"
   ]
  },
  {
   "cell_type": "markdown",
   "metadata": {},
   "source": [
    "<span>After importing waysoffib.py, I name some variables.</span>"
   ]
  },
  {
   "cell_type": "code",
   "execution_count": 10,
   "metadata": {
    "collapsed": false
   },
   "outputs": [],
   "source": [
    "wof = WAYSOFFIB()"
   ]
  },
  {
   "cell_type": "code",
   "execution_count": 11,
   "metadata": {
    "collapsed": true
   },
   "outputs": [],
   "source": [
    "n = 10"
   ]
  },
  {
   "cell_type": "markdown",
   "metadata": {},
   "source": [
    "<span>Now I can use the functions. As we will see the sum of a fibonacci sequence of 10 is equal to 55 as, the sequence is this:\n",
    "<br>1, 1, 2, 3, 5, 8, 13, 21, 34, 55</br>\n",
    "<br></br>\n",
    "<br>\n",
    "The result from one of our functions goes like this:\n",
    "</br></span>"
   ]
  },
  {
   "cell_type": "code",
   "execution_count": 13,
   "metadata": {
    "collapsed": false
   },
   "outputs": [
    {
     "name": "stdout",
     "output_type": "stream",
     "text": [
      "55\n"
     ]
    }
   ],
   "source": [
    "print(wof.catalogued(n))"
   ]
  },
  {
   "cell_type": "markdown",
   "metadata": {},
   "source": [
    "<span>We can now test the execution time of our functions:</span>"
   ]
  },
  {
   "cell_type": "code",
   "execution_count": 45,
   "metadata": {
    "collapsed": false
   },
   "outputs": [
    {
     "name": "stdout",
     "output_type": "stream",
     "text": [
      "(55, 3.514623641967773e-08)\n",
      "(55, 2.7276515960693358e-08)\n",
      "(55, 2.3373007774353026e-08)\n",
      "(55, 2.1140694618225097e-08)\n"
     ]
    }
   ],
   "source": [
    "functions = [wof.catalogued(n), wof.not_catalogued(n), wof.looping(n), wof.gen(n)]\n",
    "\n",
    "for i in range(len(functions)):\n",
    "    print(execution_time(wof.catalogued(n), 2000000))"
   ]
  },
  {
   "cell_type": "code",
   "execution_count": 67,
   "metadata": {
    "collapsed": false
   },
   "outputs": [
    {
     "name": "stdout",
     "output_type": "stream",
     "text": [
      "Results and execution times for iteration #1: \n",
      "55 2.3745059967041016e-08\n",
      "55 2.417755126953125e-08\n",
      "55 2.2669315338134766e-08\n",
      "55 2.23996639251709e-08\n",
      "Results and execution times for iteration #2: \n",
      "55 2.2489666938781737e-08\n",
      "55 2.254962921142578e-08\n",
      "55 2.35445499420166e-08\n",
      "55 2.2606611251831055e-08\n",
      "Results and execution times for iteration #3: \n",
      "55 2.266228199005127e-08\n",
      "55 2.2260308265686036e-08\n",
      "55 2.2564291954040528e-08\n",
      "55 2.2829174995422364e-08\n",
      "Results and execution times for iteration #4: \n",
      "55 2.337467670440674e-08\n",
      "55 2.2187829017639162e-08\n",
      "55 2.2290706634521483e-08\n",
      "55 2.2606968879699708e-08\n"
     ]
    }
   ],
   "source": [
    "for x in range(4):\n",
    "    print('Results and execution times for iteration #' + str(x + 1) + ': ')\n",
    "    for i in range(len(functions)):\n",
    "        result, exponent = execution_time(wof.catalogued(n), 2000000)\n",
    "        print(result, exponent)"
   ]
  },
  {
   "cell_type": "markdown",
   "metadata": {},
   "source": [
    "<span>As we can see, our execution time function actually returns an exponent:\n",
    "<br>2.48490571975708e-08</br>\n",
    "<br></br>\n",
    "<br>Decimal representation for the exponent is roughly:</br>\n",
    "<br>2.48490571975708 × 10 ^ −8</br>\n",
    "</span>"
   ]
  },
  {
   "cell_type": "code",
   "execution_count": 77,
   "metadata": {
    "collapsed": false
   },
   "outputs": [
    {
     "name": "stdout",
     "output_type": "stream",
     "text": [
      "-8\n",
      "2.260696887969971e-16\n"
     ]
    }
   ],
   "source": [
    "e = 10\n",
    "expvar = int(str(exponent)[-3:])\n",
    "print(expvar)\n",
    "print(exponent * (e ** expvar))"
   ]
  },
  {
   "cell_type": "markdown",
   "metadata": {},
   "source": [
    "<span>😐 Really...?</span>\n"
   ]
  },
  {
   "cell_type": "code",
   "execution_count": null,
   "metadata": {
    "collapsed": true
   },
   "outputs": [],
   "source": []
  }
 ],
 "metadata": {
  "kernelspec": {
   "display_name": "Python 3",
   "language": "python",
   "name": "python3"
  },
  "language_info": {
   "codemirror_mode": {
    "name": "ipython",
    "version": 3
   },
   "file_extension": ".py",
   "mimetype": "text/x-python",
   "name": "python",
   "nbconvert_exporter": "python",
   "pygments_lexer": "ipython3",
   "version": "3.6.0"
  }
 },
 "nbformat": 4,
 "nbformat_minor": 2
}
