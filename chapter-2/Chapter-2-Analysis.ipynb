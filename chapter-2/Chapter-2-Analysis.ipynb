{
 "cells": [
  {
   "cell_type": "markdown",
   "metadata": {
    "collapsed": true
   },
   "source": [
    "<h1>Chapter 2: Analysis</h1>\n",
    "\n",
    "<span>\n",
    "    My first jupyter notebook, demonstrating some code from class and the chapter.\n",
    "</span>"
   ]
  },
  {
   "cell_type": "code",
   "execution_count": 1,
   "metadata": {
    "collapsed": false
   },
   "outputs": [
    {
     "name": "stdout",
     "output_type": "stream",
     "text": [
      "Hello world!\n"
     ]
    }
   ],
   "source": [
    "print('Hello world!')"
   ]
  },
  {
   "cell_type": "code",
   "execution_count": 18,
   "metadata": {
    "collapsed": true
   },
   "outputs": [],
   "source": [
    "from matplotlib import pyplot\n",
    "import math"
   ]
  },
  {
   "cell_type": "markdown",
   "metadata": {},
   "source": [
    "<span>First I created an execution time function that can be easily imported and is what I call \"function agnostic.\" Meaning, I can import my function and pass functions to the function and get the result (whatever the function returns, and the time it took to execute:</span>"
   ]
  },
  {
   "cell_type": "code",
   "execution_count": 3,
   "metadata": {
    "collapsed": true
   },
   "outputs": [],
   "source": [
    "from executiontime import execution_time"
   ]
  },
  {
   "cell_type": "markdown",
   "metadata": {},
   "source": [
    "<span>After importing, calling my function looks like this:</span>"
   ]
  },
  {
   "cell_type": "code",
   "execution_count": 4,
   "metadata": {
    "collapsed": true
   },
   "outputs": [],
   "source": [
    "result, exec_time = execution_time(sum([1, 2, 3]), 1000000)"
   ]
  },
  {
   "cell_type": "code",
   "execution_count": 5,
   "metadata": {
    "collapsed": false
   },
   "outputs": [
    {
     "name": "stdout",
     "output_type": "stream",
     "text": [
      "Here's the result of the sum of 1, 2, and 3, executed 1000000 times, and the execution time: (6, 5.3781986236572266e-08)\n"
     ]
    }
   ],
   "source": [
    "print('Here\\'s the result of the sum of 1, 2, and 3, executed 1000000 times, and the execution time:', execution_time(sum([1, 2, 3]), 1000000))"
   ]
  },
  {
   "cell_type": "markdown",
   "metadata": {},
   "source": [
    "<span>Here's the code...\n",
    "\n",
    "Note: Please see docstring for execution_time() function source:\n",
    "\n",
    "</span>\n",
    "\n",
    "<code>\n",
    "\"\"\" execution-time.py | Mon, Jan 30, 2017 | Roman S. Collins\n",
    "Demonstrating how to calculate execution time using a function\n",
    "in Python...\n",
    "Jim's example:\n",
    "def run_time(f, n, loopcount=1000):\n",
    "    # Return the run time in seconds of f(n)\n",
    "    # see https://docs.python.org/2/library/time.html\n",
    "    from time import time\n",
    "    start = time()\n",
    "    for loop in range(loopcount):\n",
    "        anwer = f(n)\n",
    "    end = time()\n",
    "    return (end - start)/loopcount\n",
    "Assumes a specific function is called within the loop.\n",
    "Whereas attempt to make my loop \"function agnostic\",\n",
    "ultimately not that different though\n",
    "\"\"\"\n",
    "\n",
    "from doctest import testmod\n",
    "from time import time\n",
    "\n",
    "def execution_time(some_function, iter_count):\n",
    "    start_time = time()\n",
    "\n",
    "    for iterations in range(iter_count):\n",
    "        result = some_function\n",
    "\n",
    "    end_time = time()\n",
    "\n",
    "    exec_time = (end_time - start_time) / iter_count\n",
    "\n",
    "    return result, exec_time\n",
    "\n",
    "def main():\n",
    "    \"\"\" Hard to doctest ever changing variables so maybe this is the best\n",
    "        we can do?\n",
    "        Doctest:\n",
    "        >>> sus = [1, 3, 34, 53, 645, 234, 6234, 111, 1123, 100, 12, 12, 23]\n",
    "        >>> result, exec_time = execution_time(sum(sus), 2000000)\n",
    "        >>> isinstance(result, int)\n",
    "        True\n",
    "        >>> isinstance(exec_time, float)\n",
    "        True\n",
    "    \"\"\"\n",
    "\n",
    "    sus = [1, 3, 34, 53, 645, 234, 6234, 111, 1123, 100, 12, 12, 23]\n",
    "\n",
    "    result, exec_time = execution_time(sum(sus), 2000000)\n",
    "\n",
    "    print('TEST: print \\\"result\\\", \\\"exec_time\\\":', result, exec_time)\n",
    "\n",
    "if __name__=='__main__':\n",
    "    testmod()\n",
    "main()\n",
    "</code>"
   ]
  },
  {
   "cell_type": "markdown",
   "metadata": {
    "collapsed": true
   },
   "source": [
    "<span>Let's grab some code from the last assingment to test our new function... \n",
    "\n",
    "$ cp -r ../chapter-1/waysoffib.py .\n",
    "\n",
    "</span>"
   ]
  },
  {
   "cell_type": "code",
   "execution_count": 6,
   "metadata": {
    "collapsed": true
   },
   "outputs": [],
   "source": [
    "from waysoffib import *"
   ]
  },
  {
   "cell_type": "code",
   "execution_count": 7,
   "metadata": {
    "collapsed": false
   },
   "outputs": [
    {
     "data": {
      "text/plain": [
       "['In',\n",
       " 'Memoize',\n",
       " 'Out',\n",
       " 'WAYSOFFIB',\n",
       " '_',\n",
       " '__',\n",
       " '___',\n",
       " '__builtin__',\n",
       " '__builtins__',\n",
       " '__doc__',\n",
       " '__loader__',\n",
       " '__name__',\n",
       " '__package__',\n",
       " '__spec__',\n",
       " '_dh',\n",
       " '_i',\n",
       " '_i1',\n",
       " '_i2',\n",
       " '_i3',\n",
       " '_i4',\n",
       " '_i5',\n",
       " '_i6',\n",
       " '_i7',\n",
       " '_ih',\n",
       " '_ii',\n",
       " '_iii',\n",
       " '_oh',\n",
       " '_sh',\n",
       " 'a',\n",
       " 'b',\n",
       " 'exec_time',\n",
       " 'execution_time',\n",
       " 'exit',\n",
       " 'get_ipython',\n",
       " 'main',\n",
       " 'pyplot',\n",
       " 'quit',\n",
       " 'result',\n",
       " 'sys']"
      ]
     },
     "execution_count": 7,
     "metadata": {},
     "output_type": "execute_result"
    }
   ],
   "source": [
    "dir()"
   ]
  },
  {
   "cell_type": "markdown",
   "metadata": {},
   "source": [
    "<span>After importing waysoffib.py, I name some variables.</span>"
   ]
  },
  {
   "cell_type": "code",
   "execution_count": 8,
   "metadata": {
    "collapsed": false
   },
   "outputs": [],
   "source": [
    "wof = WAYSOFFIB()"
   ]
  },
  {
   "cell_type": "code",
   "execution_count": 9,
   "metadata": {
    "collapsed": true
   },
   "outputs": [],
   "source": [
    "n = 10"
   ]
  },
  {
   "cell_type": "markdown",
   "metadata": {},
   "source": [
    "<span>Now I can use the functions. As we will see the sum of a fibonacci sequence of 10 is equal to 55 as, the sequence is this:\n",
    "<br>1, 1, 2, 3, 5, 8, 13, 21, 34, 55</br>\n",
    "<br></br>\n",
    "<br>\n",
    "The result from one of our functions goes like this:\n",
    "</br></span>"
   ]
  },
  {
   "cell_type": "code",
   "execution_count": 10,
   "metadata": {
    "collapsed": false
   },
   "outputs": [
    {
     "name": "stdout",
     "output_type": "stream",
     "text": [
      "55\n"
     ]
    }
   ],
   "source": [
    "print(wof.gen(n))"
   ]
  },
  {
   "cell_type": "markdown",
   "metadata": {},
   "source": [
    "<span>We can now test the execution time of our functions:</span>"
   ]
  },
  {
   "cell_type": "code",
   "execution_count": 11,
   "metadata": {
    "collapsed": false
   },
   "outputs": [
    {
     "name": "stdout",
     "output_type": "stream",
     "text": [
      "(55, 9.5367431640625e-07)\n",
      "(55, 2.1457672119140625e-06)\n",
      "(55, 1.430511474609375e-06)\n"
     ]
    }
   ],
   "source": [
    "functions = [wof.catalogued(n), wof.not_catalogued(n), wof.looping(n)]\n",
    "\n",
    "for i in range(len(functions)):\n",
    "    print(execution_time(functions[i], 1))"
   ]
  },
  {
   "cell_type": "code",
   "execution_count": 12,
   "metadata": {
    "collapsed": false
   },
   "outputs": [
    {
     "name": "stdout",
     "output_type": "stream",
     "text": [
      "Results and execution times for iteration #1: \n",
      "55 4.002499580383301e-08\n",
      "55 2.560114860534668e-08\n",
      "55 4.633188247680664e-08\n",
      "Results and execution times for iteration #2: \n",
      "55 2.7415990829467772e-08\n",
      "55 2.7586698532104493e-08\n",
      "55 2.6612281799316406e-08\n",
      "Results and execution times for iteration #3: \n",
      "55 2.8960585594177245e-08\n",
      "55 2.775239944458008e-08\n",
      "55 2.8133511543273924e-08\n",
      "Results and execution times for iteration #4: \n",
      "55 2.7982711791992188e-08\n",
      "55 2.6376962661743163e-08\n",
      "55 2.7578473091125488e-08\n"
     ]
    }
   ],
   "source": [
    "for x in range(4):\n",
    "    print('Results and execution times for iteration #' + str(x + 1) + ': ')\n",
    "    for i in range(len(functions)):\n",
    "        result, exponent = execution_time(functions[i], 2000000)\n",
    "        print(result, exponent)"
   ]
  },
  {
   "cell_type": "markdown",
   "metadata": {},
   "source": [
    "<span>As we can see, our execution time functions actually return exponents, example:\n",
    "<br>2.48490571975708e-08</br>\n",
    "<br></br>\n",
    "<br>Decimal representation for the exponent is roughly:</br>\n",
    "<br>2.48490571975708 × 10 ^ −8</br>\n",
    "</span>"
   ]
  },
  {
   "cell_type": "code",
   "execution_count": 13,
   "metadata": {
    "collapsed": false
   },
   "outputs": [
    {
     "name": "stdout",
     "output_type": "stream",
     "text": [
      "0.0000000276\n"
     ]
    }
   ],
   "source": [
    "print('{:.10f}'.format(float(exponent)))"
   ]
  },
  {
   "cell_type": "markdown",
   "metadata": {},
   "source": [
    "<span>Emphasis on \"roughly\"...<br></br><br>But as we can also see from the returned result above, returned execution times vary wildly...</br>\n",
    "\n",
    "This is because the chapter explains: \"Notice that when n is small, the functions are not very well defined with respect to one another. It is hard to tell which is dominant. However, as n grows, there is a definite relationship and it is easy to see how they compare with one another.\" Not only do the timings change for each function each time it is run, the problem of differentiating between them is exascerbated by the fact that with such small numbers timings between the different functions are relatively close.\n",
    "\n",
    "Because fib(n) is equal to 10, execution times between these various fibonacci functions won't vary much.\n",
    "\n",
    "Before we solve for Big-O... or order of magnitude:"
   ]
  },
  {
   "cell_type": "code",
   "execution_count": 16,
   "metadata": {
    "collapsed": false
   },
   "outputs": [
    {
     "name": "stdout",
     "output_type": "stream",
     "text": [
      "9227465 1.1920928955078125e-06\n",
      "9227465 2.384185791015625e-06\n",
      "9227465 1.9073486328125e-06\n"
     ]
    }
   ],
   "source": [
    "n = 35\n",
    "functions = [wof.catalogued(n), wof.not_catalogued(n), wof.looping(n)]\n",
    "\n",
    "for i in range(len(functions)):\n",
    "    result, exponent = execution_time(functions[i], 1)\n",
    "    print(result, exponent)"
   ]
  },
  {
   "cell_type": "code",
   "execution_count": 30,
   "metadata": {
    "collapsed": false
   },
   "outputs": [
    {
     "data": {
      "image/png": "[encoded data removed]",
      "text/plain": [
       "<matplotlib.figure.Figure at 0x7f3138114a58>"
      ]
     },
     "metadata": {},
     "output_type": "display_data"
    }
   ],
   "source": [
    "n = 10\n",
    "\n",
    "pyplot.plot(wof.catalogued(n))\n",
    "pyplot.plot(wof.not_catalogued(n))\n",
    "pyplot.plot(wof.looping(n))\n",
    "\n",
    "pyplot.xlabel('')\n",
    "pyplot.ylabel('Processing time')\n",
    "pyplot.title('')\n",
    "pyplot.grid(False)\n",
    "pyplot.show()"
   ]
  },
  {
   "cell_type": "markdown",
   "metadata": {},
   "source": [
    "<h2>Plotting Big O</h2>\n",
    "<span><br>Big O essentially means \"order of magnitude,\" so the question is based on O() which function is most efficient?</br></span>"
   ]
  },
  {
   "cell_type": "code",
   "execution_count": 28,
   "metadata": {
    "collapsed": false
   },
   "outputs": [
    {
     "name": "stdout",
     "output_type": "stream",
     "text": [
      "[1, 4, 9, 16, 25, 36, 49, 64, 81, 100, 121, 144, 169, 196, 225, 256, 289, 324, 361, 400, 441, 484, 529, 576, 625, 676, 729, 784, 841, 900, 961, 1024, 1089, 1156, 1225, 1296, 1369, 1444, 1521, 1600, 1681, 1764, 1849, 1936, 2025, 2116, 2209, 2304, 2401, 2500, 2601, 2704, 2809, 2916, 3025, 3136, 3249, 3364, 3481, 3600, 3721, 3844, 3969, 4096, 4225, 4356, 4489, 4624, 4761, 4900, 5041, 5184, 5329, 5476, 5625, 5776, 5929, 6084, 6241, 6400, 6561, 6724, 6889, 7056, 7225, 7396, 7569, 7744, 7921, 8100, 8281, 8464, 8649, 8836, 9025, 9216, 9409, 9604, 9801]\n",
      "[10.0, 20.138629436111987, 30.329583686600433, 40.554517744447956, 50.80471895621705, 61.07505568153683, 71.36213710433871, 81.66355323334386, 91.9775021196026, 102.30258509299405, 112.6376848000782, 122.98188797974561, 133.33443416469999, 143.69468026146137, 154.06207530165332, 164.43614195558365, 174.81646268489555, 185.2026691642131, 195.59443406041623, 205.991464547108, 216.39349711921918, 226.8002933973883, 237.21163669663704, 247.62732919283508, 258.0471895621705, 268.47105099885584, 278.89875953821166, 289.3301726284906, 299.7651579069608, 310.2035921449865, 320.64536033390397, 331.09035488895915, 341.5384749528394, 351.989625783695, 362.4437182152129, 372.900668178442, 383.3603962767836, 393.82282740696024, 404.28789041990564, 414.7555178164557, 425.22564547348765, 435.69821239679015, 446.17316049748234, 456.65043438924033, 467.12998120396645, 477.61175042384986, 488.0956937280373, 498.5817648523579, 509.0699194607421, 519.5601150271407, 530.0523107268941, 540.5464673366234, 551.0425471418263, 561.540513851447, 572.0403325187785, 582.5419694681168, 593.045392226657, 603.5505694611693, 614.0574709190438, 624.5660673733325, 635.0763305714572, 645.5882331872796, 656.1017487762666, 666.6168517335019, 677.1335172543216, 687.6517212973744, 698.1714405499195, 708.6926523951976, 719.2153348817211, 729.7394666943455, 740.2650271269933, 750.7919960569157, 761.3203539203832, 771.8500816897108, 782.3811608515223, 792.9135733861762, 803.4473017482734, 813.9823288481788, 824.5186380344894, 835.056213077391, 845.5950381528468, 856.1350978275668, 866.6763770447118, 877.2188611102838, 887.7625356801677, 898.3073867477801, 908.8534006322949, 919.4005639674082, 929.948863690616, 940.4982870329724, 951.0488215093034, 961.6004549088511, 972.1531752863253, 982.706970953338, 993.2618304702052, 1003.8177426380912, 1014.3746964914828, 1024.9326812909717, 1035.4916865163325]\n",
      "[0.01, 0.04, 0.09, 0.16, 0.25, 0.36, 0.49, 0.64, 0.81, 1.0, 1.21, 1.44, 1.69, 1.96, 2.25, 2.56, 2.89, 3.24, 3.61, 4.0, 4.41, 4.84, 5.29, 5.76, 6.25, 6.76, 7.29, 7.84, 8.41, 9.0, 9.61, 10.24, 10.89, 11.56, 12.25, 12.96, 13.69, 14.44, 15.21, 16.0, 16.81, 17.64, 18.490000000000002, 19.36, 20.25, 21.16, 22.09, 23.04, 24.01, 25.0, 26.01, 27.04, 28.09, 29.16, 30.25, 31.36, 32.49, 33.64, 34.81, 36.0, 37.21, 38.44, 39.69, 40.96, 42.25, 43.56, 44.89, 46.24, 47.61, 49.0, 50.410000000000004, 51.84, 53.29, 54.76, 56.25, 57.76, 59.29, 60.84, 62.410000000000004, 64.0, 65.61, 67.24, 68.89, 70.56, 72.25, 73.96000000000001, 75.69, 77.44, 79.21000000000001, 81.0, 82.81, 84.64, 86.49, 88.36, 90.25, 92.16, 94.09, 96.04, 98.01]\n"
     ]
    },
    {
     "data": {
      "image/png": "[encoded data removed]",
      "text/plain": [
       "<matplotlib.figure.Figure at 0x7f313821d940>"
      ]
     },
     "metadata": {},
     "output_type": "display_data"
    }
   ],
   "source": [
    "from matplotlib import pyplot\n",
    "import math\n",
    "\n",
    "vals = range(1, 100)\n",
    "\n",
    "# Exponential\n",
    "exp = [x ** 2 for x in vals]\n",
    "print(exp)\n",
    "\n",
    "# Logorithmic\n",
    "fn = [10 * x + 0.1 * x * math.log(x) for x in vals]\n",
    "print(fn)\n",
    "\n",
    "gn = [0.01 * x ** 2 for x in vals]\n",
    "print(gn)\n",
    "\n",
    "pyplot.plot(exp)\n",
    "pyplot.plot(fn)\n",
    "pyplot.plot(gn)\n",
    "\n",
    "pyplot.xlabel('n')\n",
    "pyplot.ylabel('Exponent: ')\n",
    "pyplot.title('The Big O')\n",
    "pyplot.grid(False)\n",
    "#pyplot.savefig(\"graph.png\")\n",
    "pyplot.show()"
   ]
  },
  {
   "cell_type": "markdown",
   "metadata": {},
   "source": [
    "<h2>Finding substrings: </h2>"
   ]
  },
  {
   "cell_type": "code",
   "execution_count": null,
   "metadata": {
    "collapsed": true
   },
   "outputs": [],
   "source": []
  }
 ],
 "metadata": {
  "kernelspec": {
   "display_name": "Python 3",
   "language": "python",
   "name": "python3"
  },
  "language_info": {
   "codemirror_mode": {
    "name": "ipython",
    "version": 3
   },
   "file_extension": ".py",
   "mimetype": "text/x-python",
   "name": "python",
   "nbconvert_exporter": "python",
   "pygments_lexer": "ipython3",
   "version": "3.6.0"
  }
 },
 "nbformat": 4,
 "nbformat_minor": 2
}
