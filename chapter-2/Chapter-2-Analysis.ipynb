{
 "cells": [
  {
   "cell_type": "markdown",
   "metadata": {},
   "source": [
    "<h1>Chapter 2: Analysis</h1>\n",
    "\n",
    "<span>\n",
    "    My first jupyter notebook, demonstrating some code from class and the chapter.\n",
    "</span>"
   ]
  },
  {
   "cell_type": "code",
   "execution_count": 2,
   "metadata": {
    "collapsed": false
   },
   "outputs": [
    {
     "name": "stdout",
     "output_type": "stream",
     "text": [
      "Hello world!\n"
     ]
    }
   ],
   "source": [
    "print('Hello world!')"
   ]
  },
  {
   "cell_type": "markdown",
   "metadata": {},
   "source": [
    "<span>First I created an execution time function that can be easily imported and is what I call \"function agnostic.\" Meaning, I can import my function and pass functions to the function and get the result (whatever the function returns, and the time it took to execute:</span>"
   ]
  },
  {
   "cell_type": "code",
   "execution_count": 2,
   "metadata": {
    "collapsed": true
   },
   "outputs": [],
   "source": [
    "from executiontime import execution_time"
   ]
  },
  {
   "cell_type": "markdown",
   "metadata": {},
   "source": [
    "<span>After importing, calling my function looks like this:</span>"
   ]
  },
  {
   "cell_type": "code",
   "execution_count": 3,
   "metadata": {
    "collapsed": true
   },
   "outputs": [],
   "source": [
    "result, exec_time = execution_time(sum([1, 2, 3]), 1000000)"
   ]
  },
  {
   "cell_type": "code",
   "execution_count": 11,
   "metadata": {
    "collapsed": false
   },
   "outputs": [
    {
     "name": "stdout",
     "output_type": "stream",
     "text": [
      "Here's the result of the sum of 1, 2, and 3, executed 1000000 times, and the execution time: (6, 2.5829553604125977e-08)\n"
     ]
    }
   ],
   "source": [
    "print('Here\\'s the result of the sum of 1, 2, and 3, executed 1000000 times, and the execution time:', execution_time(sum([1, 2, 3]), 1000000))"
   ]
  },
  {
   "cell_type": "markdown",
   "metadata": {},
   "source": [
    "<span>Here's the code...\n",
    "\n",
    "Note: Please see docstring for execution_time() function source:\n",
    "\n",
    "</span>\n",
    "\n",
    "<code>\n",
    "\"\"\" execution-time.py | Mon, Jan 30, 2017 | Roman S. Collins\n",
    "Demonstrating how to calculate execution time using a function\n",
    "in Python...\n",
    "Jim's example:\n",
    "def run_time(f, n, loopcount=1000):\n",
    "    # Return the run time in seconds of f(n)\n",
    "    # see https://docs.python.org/2/library/time.html\n",
    "    from time import time\n",
    "    start = time()\n",
    "    for loop in range(loopcount):\n",
    "        anwer = f(n)\n",
    "    end = time()\n",
    "    return (end - start)/loopcount\n",
    "Assumes a specific function is called within the loop.\n",
    "Whereas attempt to make my loop \"function agnostic\",\n",
    "ultimately not that different though\n",
    "\"\"\"\n",
    "\n",
    "from doctest import testmod\n",
    "from time import time\n",
    "\n",
    "def execution_time(some_function, iter_count):\n",
    "    start_time = time()\n",
    "\n",
    "    for iterations in range(iter_count):\n",
    "        result = some_function\n",
    "\n",
    "    end_time = time()\n",
    "\n",
    "    exec_time = (end_time - start_time) / iter_count\n",
    "\n",
    "    return result, exec_time\n",
    "\n",
    "def main():\n",
    "    \"\"\" Hard to doctest ever changing variables so maybe this is the best\n",
    "        we can do?\n",
    "        Doctest:\n",
    "        >>> sus = [1, 3, 34, 53, 645, 234, 6234, 111, 1123, 100, 12, 12, 23]\n",
    "        >>> result, exec_time = execution_time(sum(sus), 2000000)\n",
    "        >>> isinstance(result, int)\n",
    "        True\n",
    "        >>> isinstance(exec_time, float)\n",
    "        True\n",
    "    \"\"\"\n",
    "\n",
    "    sus = [1, 3, 34, 53, 645, 234, 6234, 111, 1123, 100, 12, 12, 23]\n",
    "\n",
    "    result, exec_time = execution_time(sum(sus), 2000000)\n",
    "\n",
    "    print('TEST: print \\\"result\\\", \\\"exec_time\\\":', result, exec_time)\n",
    "\n",
    "if __name__=='__main__':\n",
    "    testmod()\n",
    "main()\n",
    "</code>"
   ]
  },
  {
   "cell_type": "markdown",
   "metadata": {
    "collapsed": true
   },
   "source": [
    "<span>Let's grab some code from the last assingment to test our new function... \n",
    "\n",
    "$ cp -r ../chapter-1/waysoffib.py .\n",
    "\n",
    "</span>"
   ]
  },
  {
   "cell_type": "code",
   "execution_count": 4,
   "metadata": {
    "collapsed": true
   },
   "outputs": [],
   "source": [
    "from waysoffib import *"
   ]
  },
  {
   "cell_type": "code",
   "execution_count": 5,
   "metadata": {
    "collapsed": false
   },
   "outputs": [
    {
     "data": {
      "text/plain": [
       "['In',\n",
       " 'Memoize',\n",
       " 'Out',\n",
       " 'WAYSOFFIB',\n",
       " '_',\n",
       " '__',\n",
       " '___',\n",
       " '__builtin__',\n",
       " '__builtins__',\n",
       " '__doc__',\n",
       " '__loader__',\n",
       " '__name__',\n",
       " '__package__',\n",
       " '__spec__',\n",
       " '_dh',\n",
       " '_i',\n",
       " '_i1',\n",
       " '_i2',\n",
       " '_i3',\n",
       " '_i4',\n",
       " '_i5',\n",
       " '_ih',\n",
       " '_ii',\n",
       " '_iii',\n",
       " '_oh',\n",
       " '_sh',\n",
       " 'a',\n",
       " 'b',\n",
       " 'exit',\n",
       " 'get_ipython',\n",
       " 'main',\n",
       " 'quit',\n",
       " 'sys']"
      ]
     },
     "execution_count": 5,
     "metadata": {},
     "output_type": "execute_result"
    }
   ],
   "source": [
    "dir()"
   ]
  },
  {
   "cell_type": "code",
   "execution_count": 6,
   "metadata": {
    "collapsed": true
   },
   "outputs": [],
   "source": [
    "wof = WAYSOFFIB"
   ]
  },
  {
   "cell_type": "code",
   "execution_count": 7,
   "metadata": {
    "collapsed": true
   },
   "outputs": [],
   "source": [
    "n = 1230"
   ]
  },
  {
   "cell_type": "code",
   "execution_count": 8,
   "metadata": {
    "collapsed": false
   },
   "outputs": [
    {
     "ename": "TypeError",
     "evalue": "catalogued() missing 1 required positional argument: 'n'",
     "output_type": "error",
     "traceback": [
      "\u001b[0;31m---------------------------------------------------------------------------\u001b[0m",
      "\u001b[0;31mTypeError\u001b[0m                                 Traceback (most recent call last)",
      "\u001b[0;32m<ipython-input-8-54ab93f9280f>\u001b[0m in \u001b[0;36m<module>\u001b[0;34m()\u001b[0m\n\u001b[0;32m----> 1\u001b[0;31m \u001b[0mprint\u001b[0m\u001b[0;34m(\u001b[0m\u001b[0mwof\u001b[0m\u001b[0;34m.\u001b[0m\u001b[0mcatalogued\u001b[0m\u001b[0;34m(\u001b[0m\u001b[0mn\u001b[0m\u001b[0;34m)\u001b[0m\u001b[0;34m)\u001b[0m\u001b[0;34m\u001b[0m\u001b[0m\n\u001b[0m",
      "\u001b[0;31mTypeError\u001b[0m: catalogued() missing 1 required positional argument: 'n'"
     ]
    }
   ],
   "source": [
    "print(wof.catalogued(n))"
   ]
  },
  {
   "cell_type": "code",
   "execution_count": null,
   "metadata": {
    "collapsed": true
   },
   "outputs": [],
   "source": []
  }
 ],
 "metadata": {
  "kernelspec": {
   "display_name": "Python 3",
   "language": "python",
   "name": "python3"
  },
  "language_info": {
   "codemirror_mode": {
    "name": "ipython",
    "version": 3
   },
   "file_extension": ".py",
   "mimetype": "text/x-python",
   "name": "python",
   "nbconvert_exporter": "python",
   "pygments_lexer": "ipython3",
   "version": "3.6.0"
  }
 },
 "nbformat": 4,
 "nbformat_minor": 2
}
